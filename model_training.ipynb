{
 "cells": [
  {
   "cell_type": "markdown",
   "id": "aa88ebf1",
   "metadata": {},
   "source": [
    "# 🧠 Multiverse Victory Predictor - Model Training\n",
    "This notebook trains both Logistic Regression and Random Forest models on a multiverse simulation dataset."
   ]
  },
  {
   "cell_type": "code",
   "execution_count": 1,
   "id": "e6edfc63",
   "metadata": {},
   "outputs": [],
   "source": [
    "\n",
    "import numpy as np\n",
    "import pandas as pd\n",
    "import matplotlib.pyplot as plt\n",
    "\n",
    "from sklearn.pipeline import Pipeline\n",
    "from sklearn.impute import SimpleImputer\n",
    "from sklearn.preprocessing import StandardScaler, OneHotEncoder\n",
    "from sklearn.compose import ColumnTransformer\n",
    "from sklearn.linear_model import LogisticRegression\n",
    "from sklearn.ensemble import RandomForestClassifier\n",
    "from sklearn.model_selection import train_test_split\n",
    "from sklearn.metrics import classification_report\n",
    "import joblib\n"
   ]
  },
  {
   "cell_type": "code",
   "execution_count": 2,
   "id": "39659b22",
   "metadata": {},
   "outputs": [
    {
     "data": {
      "text/html": [
       "<div>\n",
       "<style scoped>\n",
       "    .dataframe tbody tr th:only-of-type {\n",
       "        vertical-align: middle;\n",
       "    }\n",
       "\n",
       "    .dataframe tbody tr th {\n",
       "        vertical-align: top;\n",
       "    }\n",
       "\n",
       "    .dataframe thead th {\n",
       "        text-align: right;\n",
       "    }\n",
       "</style>\n",
       "<table border=\"1\" class=\"dataframe\">\n",
       "  <thead>\n",
       "    <tr style=\"text-align: right;\">\n",
       "      <th></th>\n",
       "      <th>team_strength</th>\n",
       "      <th>enemy_strength</th>\n",
       "      <th>num_heroes</th>\n",
       "      <th>num_enemies</th>\n",
       "      <th>has_time_stone</th>\n",
       "      <th>has_surprise_element</th>\n",
       "      <th>terrain_advantage</th>\n",
       "      <th>team_coordination</th>\n",
       "      <th>enemy_mind_state</th>\n",
       "      <th>intel_accuracy</th>\n",
       "      <th>has_ironman</th>\n",
       "      <th>previous_failures</th>\n",
       "      <th>sacrifice_possible</th>\n",
       "      <th>diversion_success_rate</th>\n",
       "      <th>strategic_plan_complexity</th>\n",
       "      <th>universe_variability</th>\n",
       "      <th>enemy_stone_count</th>\n",
       "      <th>simulation_number</th>\n",
       "      <th>outcome</th>\n",
       "    </tr>\n",
       "  </thead>\n",
       "  <tbody>\n",
       "    <tr>\n",
       "      <th>0</th>\n",
       "      <td>69.934283</td>\n",
       "      <td>68.643605</td>\n",
       "      <td>4</td>\n",
       "      <td>2</td>\n",
       "      <td>0</td>\n",
       "      <td>1</td>\n",
       "      <td>unknown</td>\n",
       "      <td>0.120206</td>\n",
       "      <td>aggressive</td>\n",
       "      <td>0.654791</td>\n",
       "      <td>0</td>\n",
       "      <td>3</td>\n",
       "      <td>0</td>\n",
       "      <td>0.782868</td>\n",
       "      <td>8.278652</td>\n",
       "      <td>0.647450</td>\n",
       "      <td>2</td>\n",
       "      <td>1</td>\n",
       "      <td>0</td>\n",
       "    </tr>\n",
       "    <tr>\n",
       "      <th>1</th>\n",
       "      <td>57.234714</td>\n",
       "      <td>68.198788</td>\n",
       "      <td>3</td>\n",
       "      <td>2</td>\n",
       "      <td>0</td>\n",
       "      <td>0</td>\n",
       "      <td>space</td>\n",
       "      <td>9.553673</td>\n",
       "      <td>defensive</td>\n",
       "      <td>0.142714</td>\n",
       "      <td>1</td>\n",
       "      <td>8</td>\n",
       "      <td>1</td>\n",
       "      <td>0.227836</td>\n",
       "      <td>0.091001</td>\n",
       "      <td>0.311073</td>\n",
       "      <td>2</td>\n",
       "      <td>2</td>\n",
       "      <td>0</td>\n",
       "    </tr>\n",
       "    <tr>\n",
       "      <th>2</th>\n",
       "      <td>NaN</td>\n",
       "      <td>48.065352</td>\n",
       "      <td>9</td>\n",
       "      <td>4</td>\n",
       "      <td>0</td>\n",
       "      <td>0</td>\n",
       "      <td>unknown</td>\n",
       "      <td>4.977799</td>\n",
       "      <td>neutral</td>\n",
       "      <td>0.392511</td>\n",
       "      <td>0</td>\n",
       "      <td>6</td>\n",
       "      <td>0</td>\n",
       "      <td>0.027715</td>\n",
       "      <td>9.683747</td>\n",
       "      <td>0.550768</td>\n",
       "      <td>6</td>\n",
       "      <td>3</td>\n",
       "      <td>0</td>\n",
       "    </tr>\n",
       "    <tr>\n",
       "      <th>3</th>\n",
       "      <td>90.460597</td>\n",
       "      <td>70.048647</td>\n",
       "      <td>7</td>\n",
       "      <td>1</td>\n",
       "      <td>1</td>\n",
       "      <td>0</td>\n",
       "      <td>earth</td>\n",
       "      <td>8.362684</td>\n",
       "      <td>neutral</td>\n",
       "      <td>0.566594</td>\n",
       "      <td>1</td>\n",
       "      <td>4</td>\n",
       "      <td>1</td>\n",
       "      <td>0.193337</td>\n",
       "      <td>3.760249</td>\n",
       "      <td>0.707407</td>\n",
       "      <td>1</td>\n",
       "      <td>4</td>\n",
       "      <td>1</td>\n",
       "    </tr>\n",
       "    <tr>\n",
       "      <th>4</th>\n",
       "      <td>55.316933</td>\n",
       "      <td>85.992436</td>\n",
       "      <td>4</td>\n",
       "      <td>2</td>\n",
       "      <td>1</td>\n",
       "      <td>0</td>\n",
       "      <td>space</td>\n",
       "      <td>5.484581</td>\n",
       "      <td>neutral</td>\n",
       "      <td>0.050374</td>\n",
       "      <td>0</td>\n",
       "      <td>5</td>\n",
       "      <td>0</td>\n",
       "      <td>0.400495</td>\n",
       "      <td>5.956984</td>\n",
       "      <td>0.022629</td>\n",
       "      <td>3</td>\n",
       "      <td>5</td>\n",
       "      <td>0</td>\n",
       "    </tr>\n",
       "  </tbody>\n",
       "</table>\n",
       "</div>"
      ],
      "text/plain": [
       "   team_strength  enemy_strength num_heroes  num_enemies  has_time_stone  \\\n",
       "0      69.934283       68.643605          4            2               0   \n",
       "1      57.234714       68.198788          3            2               0   \n",
       "2            NaN       48.065352          9            4               0   \n",
       "3      90.460597       70.048647          7            1               1   \n",
       "4      55.316933       85.992436          4            2               1   \n",
       "\n",
       "   has_surprise_element terrain_advantage  team_coordination enemy_mind_state  \\\n",
       "0                     1           unknown           0.120206       aggressive   \n",
       "1                     0             space           9.553673        defensive   \n",
       "2                     0           unknown           4.977799          neutral   \n",
       "3                     0             earth           8.362684          neutral   \n",
       "4                     0             space           5.484581          neutral   \n",
       "\n",
       "   intel_accuracy  has_ironman  previous_failures  sacrifice_possible  \\\n",
       "0        0.654791            0                  3                   0   \n",
       "1        0.142714            1                  8                   1   \n",
       "2        0.392511            0                  6                   0   \n",
       "3        0.566594            1                  4                   1   \n",
       "4        0.050374            0                  5                   0   \n",
       "\n",
       "   diversion_success_rate  strategic_plan_complexity  universe_variability  \\\n",
       "0                0.782868                   8.278652              0.647450   \n",
       "1                0.227836                   0.091001              0.311073   \n",
       "2                0.027715                   9.683747              0.550768   \n",
       "3                0.193337                   3.760249              0.707407   \n",
       "4                0.400495                   5.956984              0.022629   \n",
       "\n",
       "   enemy_stone_count  simulation_number  outcome  \n",
       "0                  2                  1        0  \n",
       "1                  2                  2        0  \n",
       "2                  6                  3        0  \n",
       "3                  1                  4        1  \n",
       "4                  3                  5        0  "
      ]
     },
     "execution_count": 2,
     "metadata": {},
     "output_type": "execute_result"
    }
   ],
   "source": [
    "\n",
    "df = pd.read_csv(\"multiverse_dataset.csv\")\n",
    "df.head()\n"
   ]
  },
  {
   "cell_type": "code",
   "execution_count": 3,
   "id": "449eea67",
   "metadata": {},
   "outputs": [],
   "source": [
    "\n",
    "df[\"num_heroes\"] = pd.to_numeric(df[\"num_heroes\"], errors=\"coerce\")\n",
    "df[\"enemy_mind_state\"] = df[\"enemy_mind_state\"].replace('???', np.nan)\n"
   ]
  },
  {
   "cell_type": "code",
   "execution_count": 4,
   "id": "7ae1e0af",
   "metadata": {},
   "outputs": [],
   "source": [
    "\n",
    "numerical_features = [\n",
    "    'team_strength', 'enemy_strength', 'num_heroes', 'num_enemies',\n",
    "    'team_coordination', 'intel_accuracy', 'previous_failures',\n",
    "    'diversion_success_rate', 'strategic_plan_complexity',\n",
    "    'universe_variability', 'enemy_stone_count'\n",
    "]\n",
    "\n",
    "categorical_features = [\n",
    "    'has_time_stone', 'has_surprise_element', 'terrain_advantage',\n",
    "    'enemy_mind_state', 'has_ironman', 'sacrifice_possible'\n",
    "]\n"
   ]
  },
  {
   "cell_type": "code",
   "execution_count": 5,
   "id": "6803e7a1",
   "metadata": {},
   "outputs": [],
   "source": [
    "\n",
    "X = df.drop(columns=['outcome', 'simulation_number'])\n",
    "y = df['outcome']\n"
   ]
  },
  {
   "cell_type": "code",
   "execution_count": 6,
   "id": "c5154384",
   "metadata": {},
   "outputs": [],
   "source": [
    "\n",
    "num_pipeline = Pipeline([\n",
    "    ('imputer', SimpleImputer(strategy='median')),\n",
    "    ('scaler', StandardScaler())\n",
    "])\n",
    "\n",
    "cat_pipeline = Pipeline([\n",
    "    ('imputer', SimpleImputer(strategy='most_frequent')),\n",
    "    ('encoder', OneHotEncoder(handle_unknown='ignore'))\n",
    "])\n",
    "\n",
    "preprocessor = ColumnTransformer([\n",
    "    ('num', num_pipeline, numerical_features),\n",
    "    ('cat', cat_pipeline, categorical_features)\n",
    "])\n"
   ]
  },
  {
   "cell_type": "code",
   "execution_count": 7,
   "id": "b9437f08",
   "metadata": {},
   "outputs": [],
   "source": [
    "\n",
    "X_train, X_test, y_train, y_test = train_test_split(X, y, test_size=0.2, random_state=42)\n"
   ]
  },
  {
   "cell_type": "code",
   "execution_count": 8,
   "id": "5c4ba32a",
   "metadata": {},
   "outputs": [
    {
     "name": "stdout",
     "output_type": "stream",
     "text": [
      "🔍 Logistic Regression Performance:\n",
      "\n",
      "              precision    recall  f1-score   support\n",
      "\n",
      "           0       0.81      1.00      0.90       811\n",
      "           1       0.00      0.00      0.00       189\n",
      "\n",
      "    accuracy                           0.81      1000\n",
      "   macro avg       0.41      0.50      0.45      1000\n",
      "weighted avg       0.66      0.81      0.73      1000\n",
      "\n"
     ]
    },
    {
     "name": "stderr",
     "output_type": "stream",
     "text": [
      "c:\\Users\\Srijan Roy\\AppData\\Local\\Programs\\Python\\Python310\\lib\\site-packages\\sklearn\\metrics\\_classification.py:1731: UndefinedMetricWarning: Precision is ill-defined and being set to 0.0 in labels with no predicted samples. Use `zero_division` parameter to control this behavior.\n",
      "  _warn_prf(average, modifier, f\"{metric.capitalize()} is\", result.shape[0])\n",
      "c:\\Users\\Srijan Roy\\AppData\\Local\\Programs\\Python\\Python310\\lib\\site-packages\\sklearn\\metrics\\_classification.py:1731: UndefinedMetricWarning: Precision is ill-defined and being set to 0.0 in labels with no predicted samples. Use `zero_division` parameter to control this behavior.\n",
      "  _warn_prf(average, modifier, f\"{metric.capitalize()} is\", result.shape[0])\n",
      "c:\\Users\\Srijan Roy\\AppData\\Local\\Programs\\Python\\Python310\\lib\\site-packages\\sklearn\\metrics\\_classification.py:1731: UndefinedMetricWarning: Precision is ill-defined and being set to 0.0 in labels with no predicted samples. Use `zero_division` parameter to control this behavior.\n",
      "  _warn_prf(average, modifier, f\"{metric.capitalize()} is\", result.shape[0])\n"
     ]
    },
    {
     "data": {
      "text/plain": [
       "['multiverse_logistic.pkl']"
      ]
     },
     "execution_count": 8,
     "metadata": {},
     "output_type": "execute_result"
    }
   ],
   "source": [
    "\n",
    "log_pipeline = Pipeline([\n",
    "    ('preprocessor', preprocessor),\n",
    "    ('classifier', LogisticRegression(max_iter=1000))\n",
    "])\n",
    "\n",
    "log_pipeline.fit(X_train, y_train)\n",
    "y_pred_log = log_pipeline.predict(X_test)\n",
    "print(\"🔍 Logistic Regression Performance:\\n\")\n",
    "print(classification_report(y_test, y_pred_log))\n",
    "\n",
    "joblib.dump(log_pipeline, \"multiverse_logistic.pkl\")\n"
   ]
  },
  {
   "cell_type": "code",
   "execution_count": 9,
   "id": "158152e2",
   "metadata": {},
   "outputs": [
    {
     "name": "stdout",
     "output_type": "stream",
     "text": [
      "🌲 Random Forest Performance:\n",
      "\n",
      "              precision    recall  f1-score   support\n",
      "\n",
      "           0       0.81      1.00      0.90       811\n",
      "           1       0.00      0.00      0.00       189\n",
      "\n",
      "    accuracy                           0.81      1000\n",
      "   macro avg       0.41      0.50      0.45      1000\n",
      "weighted avg       0.66      0.81      0.73      1000\n",
      "\n"
     ]
    },
    {
     "name": "stderr",
     "output_type": "stream",
     "text": [
      "c:\\Users\\Srijan Roy\\AppData\\Local\\Programs\\Python\\Python310\\lib\\site-packages\\sklearn\\metrics\\_classification.py:1731: UndefinedMetricWarning: Precision is ill-defined and being set to 0.0 in labels with no predicted samples. Use `zero_division` parameter to control this behavior.\n",
      "  _warn_prf(average, modifier, f\"{metric.capitalize()} is\", result.shape[0])\n",
      "c:\\Users\\Srijan Roy\\AppData\\Local\\Programs\\Python\\Python310\\lib\\site-packages\\sklearn\\metrics\\_classification.py:1731: UndefinedMetricWarning: Precision is ill-defined and being set to 0.0 in labels with no predicted samples. Use `zero_division` parameter to control this behavior.\n",
      "  _warn_prf(average, modifier, f\"{metric.capitalize()} is\", result.shape[0])\n",
      "c:\\Users\\Srijan Roy\\AppData\\Local\\Programs\\Python\\Python310\\lib\\site-packages\\sklearn\\metrics\\_classification.py:1731: UndefinedMetricWarning: Precision is ill-defined and being set to 0.0 in labels with no predicted samples. Use `zero_division` parameter to control this behavior.\n",
      "  _warn_prf(average, modifier, f\"{metric.capitalize()} is\", result.shape[0])\n"
     ]
    },
    {
     "data": {
      "text/plain": [
       "['multiverse_random_forest.pkl']"
      ]
     },
     "execution_count": 9,
     "metadata": {},
     "output_type": "execute_result"
    }
   ],
   "source": [
    "\n",
    "rf_pipeline = Pipeline([\n",
    "    ('preprocessor', preprocessor),\n",
    "    ('classifier', RandomForestClassifier(n_estimators=100, random_state=42))\n",
    "])\n",
    "\n",
    "rf_pipeline.fit(X_train, y_train)\n",
    "y_pred_rf = rf_pipeline.predict(X_test)\n",
    "print(\"🌲 Random Forest Performance:\\n\")\n",
    "print(classification_report(y_test, y_pred_rf))\n",
    "\n",
    "joblib.dump(rf_pipeline, \"multiverse_random_forest.pkl\")\n"
   ]
  }
 ],
 "metadata": {
  "kernelspec": {
   "display_name": "Python 3",
   "language": "python",
   "name": "python3"
  },
  "language_info": {
   "codemirror_mode": {
    "name": "ipython",
    "version": 3
   },
   "file_extension": ".py",
   "mimetype": "text/x-python",
   "name": "python",
   "nbconvert_exporter": "python",
   "pygments_lexer": "ipython3",
   "version": "3.10.0"
  }
 },
 "nbformat": 4,
 "nbformat_minor": 5
}
